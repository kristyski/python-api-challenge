{
 "cells": [
  {
   "cell_type": "markdown",
   "metadata": {},
   "source": [
    "# WeatherPy\n",
    "----\n",
    "\n",
    "#### Note\n",
    "* Instructions have been included for each segment. You do not have to follow them exactly, but they are included to help you think through the steps."
   ]
  },
  {
   "cell_type": "code",
   "execution_count": 55,
   "metadata": {
    "scrolled": true
   },
   "outputs": [],
   "source": [
    "# Dependencies and Setup\n",
    "import matplotlib.pyplot as plt\n",
    "import pandas as pd\n",
    "import numpy as np\n",
    "import requests\n",
    "import time\n",
    "import json\n",
    "import scipy.stats as sts\n",
    "from scipy.stats import linregress\n",
    "\n",
    "# Import API key\n",
    "from config import weather_api_key\n",
    "\n",
    "# Incorporated citipy to determine city based on latitude and longitude\n",
    "from citipy import citipy\n",
    "\n",
    "# Output File (CSV)\n",
    "output_data_file = \"../output_data/weather.csv\"\n",
    "\n",
    "# Range of latitudes and longitudes\n",
    "lat_range = (-90, 90)\n",
    "lng_range = (-180, 180)"
   ]
  },
  {
   "cell_type": "markdown",
   "metadata": {},
   "source": [
    "## Generate Cities List"
   ]
  },
  {
   "cell_type": "code",
   "execution_count": 4,
   "metadata": {},
   "outputs": [
    {
     "data": {
      "text/plain": [
       "598"
      ]
     },
     "execution_count": 4,
     "metadata": {},
     "output_type": "execute_result"
    }
   ],
   "source": [
    "# List for holding lat_lngs and cities\n",
    "lat_lngs = []\n",
    "cities = []\n",
    "\n",
    "# Create a set of random lat and lng combinations\n",
    "lats = np.random.uniform(lat_range[0], lat_range[1], size=1500)\n",
    "lngs = np.random.uniform(lng_range[0], lng_range[1], size=1500)\n",
    "lat_lngs = zip(lats, lngs)\n",
    "\n",
    "# Identify nearest city for each lat, lng combination\n",
    "for lat_lng in lat_lngs:\n",
    "    city = citipy.nearest_city(lat_lng[0], lat_lng[1]).city_name\n",
    "    \n",
    "    # If the city is unique, then add it to cities list\n",
    "    if city not in cities:\n",
    "        cities.append(city)\n",
    "\n",
    "# Print the city count to confirm sufficient count\n",
    "len(cities)"
   ]
  },
  {
   "cell_type": "markdown",
   "metadata": {},
   "source": [
    "### Perform API Calls\n",
    "* Perform a weather check on each city using a series of successive API calls.\n",
    "* Include a print log of each city as it's being processed (with the city number and city name).\n"
   ]
  },
  {
   "cell_type": "code",
   "execution_count": 5,
   "metadata": {},
   "outputs": [
    {
     "name": "stdout",
     "output_type": "stream",
     "text": [
      "No. 1 East London\n",
      "No. 2 Kahului\n",
      "No. 3 Hobart\n",
      "No. 4 Kulhudhuffushi\n",
      "No. 5 Thompson\n",
      "No. 6 Sinnamary\n",
      "No. 7 Barrow\n",
      "No. 8 Severo-Yeniseyskiy\n",
      "No. 9 Tasiilaq\n",
      "No. 10 Khatanga\n",
      "No. 11 Chui\n",
      "No. 12 Mataura\n",
      "No. 13 Saint Paul Harbor\n",
      "No. 14 Arraial do Cabo\n",
      "No. 15 Albany\n",
      "No. 16 George Town\n",
      "No. 17 Khovd\n",
      "No. 18 Rikitea\n",
      "No. 19 Blackwater\n",
      "No. 20 Iqaluit\n",
      "No. 21 Māngrol\n",
      "No. 22 Ingham\n",
      "No. 23 Nome\n",
      "No. 24 Hermanus\n",
      "No. 25 Chapais\n",
      "skip city\n",
      "No. 26 Ushuaia\n",
      "No. 27 São Domingos\n",
      "No. 28 Yangi Marg`ilon\n",
      "No. 29 Longyearbyen\n",
      "No. 30 Ponta do Sol\n",
      "No. 31 Saskylakh\n",
      "No. 32 Labuhan\n",
      "No. 33 Cape Town\n",
      "No. 34 Manche\n",
      "No. 35 Mossamedes\n",
      "No. 36 Makakilo City\n",
      "No. 37 Bahía de Caráquez\n",
      "No. 38 Kamenka\n",
      "No. 39 Kapaa\n",
      "No. 40 Omsukchan\n",
      "No. 41 Teya\n",
      "No. 42 Changji\n",
      "skip city\n",
      "No. 43 Kinna\n",
      "No. 44 Atuona\n",
      "No. 45 Saint Anthony\n",
      "No. 46 Binga\n",
      "No. 47 Bluff\n",
      "skip city\n",
      "No. 48 Tooele\n",
      "No. 49 Barra de Tecoanapa\n",
      "No. 50 Torbay\n",
      "No. 51 Pevek\n",
      "No. 52 Saint-Pierre\n",
      "No. 53 Nikolskoye\n",
      "skip city\n",
      "No. 54 Alta Floresta\n",
      "No. 55 Te Anau\n",
      "No. 56 Quatre Cocos\n",
      "No. 57 Safaga\n",
      "No. 58 Mutatá\n",
      "No. 59 Jamestown\n",
      "skip city\n",
      "No. 60 Cangzhou\n",
      "No. 61 Araouane\n",
      "No. 62 Busselton\n",
      "No. 63 Qaanaaq\n",
      "No. 64 Madang\n",
      "No. 65 Cidreira\n",
      "No. 66 Sangar\n",
      "No. 67 Punta Arenas\n",
      "No. 68 Kidal\n",
      "No. 69 Arman'\n",
      "No. 70 Chepareria\n",
      "No. 71 Ţahţā\n",
      "No. 72 Zhangjiakou\n",
      "No. 73 Kirakira\n",
      "skip city\n",
      "No. 74 Butaritari\n",
      "skip city\n",
      "No. 75 Northam\n",
      "No. 76 Cherskiy\n",
      "No. 77 Vao\n",
      "No. 78 Mayumba\n",
      "No. 79 Penzance\n",
      "No. 80 Cabedelo\n",
      "No. 81 Karligan\n",
      "No. 82 Bonfim\n",
      "No. 83 Diré\n",
      "No. 84 Cradock\n",
      "No. 85 Lipari\n",
      "skip city\n",
      "No. 86 Airai\n",
      "No. 87 Eltham\n",
      "No. 88 Derazhnya\n",
      "No. 89 Hasaki\n",
      "No. 90 Cockburn Town\n",
      "No. 91 Bredasdorp\n",
      "No. 92 Øksfjord\n",
      "No. 93 Talnakh\n",
      "No. 94 Grootfontein\n",
      "No. 95 Faanui\n",
      "No. 96 New Norfolk\n",
      "No. 97 Lincoln\n",
      "No. 98 Sibolga\n",
      "No. 99 Hilo\n",
      "No. 100 Rafaela\n",
      "No. 101 Vaini\n",
      "No. 102 Bow Island\n",
      "No. 103 Emerald\n",
      "No. 104 Puerto Ayora\n",
      "skip city\n",
      "No. 105 Saldanha\n",
      "No. 106 Sakakah\n",
      "No. 107 Port Elizabeth\n",
      "No. 108 Carnarvon\n",
      "No. 109 Saint-Philippe\n",
      "skip city\n",
      "No. 110 Cururupu\n",
      "No. 111 Fort Walton Beach\n",
      "No. 112 Leningradskiy\n",
      "No. 113 Luleå\n",
      "No. 114 Vila Velha\n",
      "No. 115 Porto-Novo\n",
      "No. 116 Severo-Kuril'sk\n",
      "No. 117 Meulaboh\n",
      "No. 118 Tuktoyaktuk\n",
      "No. 119 Sun Prairie\n",
      "No. 120 Mar del Plata\n",
      "No. 121 São João da Barra\n",
      "No. 122 Atar\n",
      "No. 123 Norman Wells\n",
      "No. 124 Sooke\n",
      "No. 125 Lagoa\n",
      "No. 126 Codrington\n",
      "No. 127 Kruisfontein\n",
      "No. 128 Campechuela\n",
      "No. 129 Lüderitz\n",
      "No. 130 Tiksi\n",
      "No. 131 São José da Coroa Grande\n",
      "No. 132 Tilichiki\n",
      "No. 133 Hualmay\n",
      "No. 134 Hithadhoo\n",
      "No. 135 Forestville\n",
      "No. 136 Kochubey\n",
      "No. 137 Galle\n",
      "skip city\n",
      "No. 138 Nesna\n",
      "No. 139 Oddur\n",
      "No. 140 Bua Yai\n",
      "No. 141 Whitefish\n",
      "skip city\n",
      "skip city\n",
      "No. 142 Ilulissat\n",
      "No. 143 Kangaatsiaq\n",
      "No. 144 Hailar\n",
      "No. 145 Provideniya\n",
      "No. 146 Hudson Bay\n",
      "No. 147 Mugumu\n",
      "No. 148 São Miguel do Araguaia\n",
      "skip city\n",
      "skip city\n",
      "No. 149 Mahébourg\n",
      "No. 150 Camaná\n",
      "No. 151 Dikson\n",
      "No. 152 Sarangani\n",
      "No. 153 Rawson\n",
      "No. 154 Sorong\n",
      "No. 155 Severobaykal'sk\n",
      "No. 156 Nanortalik\n",
      "No. 157 Saint George\n",
      "No. 158 Fortuna\n",
      "No. 159 Road Town\n",
      "No. 160 Uray\n",
      "No. 161 Ribeira Grande\n",
      "No. 162 Avarua\n",
      "No. 163 Port Lincoln\n",
      "No. 164 Atambua\n",
      "No. 165 Rosarito\n",
      "No. 166 Mayo\n",
      "No. 167 Bandarbeyla\n",
      "No. 168 Alugan\n",
      "No. 169 Mandiana\n",
      "No. 170 Malartic\n",
      "No. 171 Paamiut\n",
      "No. 172 Kraksaan\n",
      "No. 173 San Quintín\n",
      "No. 174 Kungurtug\n",
      "No. 175 Kaitangata\n",
      "No. 176 Luena\n",
      "No. 177 Champerico\n",
      "No. 178 Laguna\n",
      "No. 179 Yellowknife\n",
      "No. 180 Doka\n",
      "skip city\n",
      "No. 181 Vardø\n",
      "No. 182 Rørvik\n",
      "No. 183 Mmathubudukwane\n",
      "No. 184 Pālitāna\n",
      "No. 185 Hangu\n",
      "No. 186 Jacmel\n",
      "No. 187 Leh\n",
      "No. 188 Tura\n",
      "No. 189 Zhigansk\n",
      "No. 190 Upernavik\n",
      "No. 191 Matamoros\n",
      "No. 192 Ketchikan\n",
      "No. 193 Abu Dhabi\n",
      "No. 194 Rocha\n",
      "No. 195 Ust-Nera\n",
      "No. 196 Hawick\n",
      "No. 197 Sept-Îles\n",
      "No. 198 Itoman\n",
      "No. 199 Suez\n",
      "No. 200 Iroquois Falls\n",
      "No. 201 Merauke\n",
      "No. 202 Whyalla\n",
      "skip city\n",
      "No. 203 Presidencia Roque Sáenz Peña\n",
      "skip city\n",
      "No. 204 Port Augusta\n",
      "skip city\n",
      "No. 205 Lebu\n",
      "No. 206 Port Alfred\n",
      "No. 207 Fort Nelson\n",
      "No. 208 Udachny\n",
      "No. 209 Taltal\n",
      "No. 210 Touros\n",
      "No. 211 Muros\n",
      "No. 212 Kyshtym\n",
      "No. 213 Beringovskiy\n",
      "No. 214 Batman\n",
      "No. 215 Palmer\n",
      "No. 216 Povenets\n",
      "No. 217 Pangnirtung\n",
      "No. 218 Lavrentiya\n",
      "No. 219 Cimahi\n",
      "skip city\n",
      "No. 220 Tsirguliina\n",
      "No. 221 Krasnosel'kup\n",
      "No. 222 Hokitika\n",
      "No. 223 Laminusa\n",
      "No. 224 Geraldton\n",
      "No. 225 Paraná\n",
      "skip city\n",
      "No. 226 Coyhaique\n",
      "No. 227 Simbahan\n",
      "skip city\n",
      "No. 228 Egvekinot\n",
      "No. 229 Miandrivazo\n",
      "No. 230 San Patricio\n",
      "No. 231 Marsh Harbour\n",
      "No. 232 Maralal\n",
      "No. 233 Betioky\n",
      "skip city\n",
      "No. 234 Candolim\n",
      "No. 235 Jacareacanga\n",
      "No. 236 Yarmouth\n",
      "No. 237 Flinders\n",
      "No. 238 Kilindoni\n",
      "No. 239 Jardim\n",
      "No. 240 Novaya Igirma\n",
      "No. 241 Namatanai\n",
      "No. 242 Bethel\n",
      "No. 243 Haines Junction\n",
      "No. 244 Nivala\n",
      "No. 245 Matara\n",
      "No. 246 Marsá Maţrūḩ\n",
      "No. 247 Rio Grande\n",
      "No. 248 Santa Marta\n",
      "skip city\n",
      "No. 249 Brownwood\n",
      "No. 250 Lompoc\n",
      "No. 251 Tazovsky\n",
      "No. 252 Gouyave\n",
      "No. 253 Bac Lieu\n",
      "No. 254 Saint-François\n",
      "No. 255 Ayan\n",
      "No. 256 Wanning\n",
      "No. 257 Ugoofaaru\n",
      "No. 258 Honningsvåg\n",
      "No. 259 Bengkulu\n",
      "No. 260 Puerto Madryn\n",
      "No. 261 Abnūb\n",
      "No. 262 Liusha\n",
      "No. 263 Cabo San Lucas\n",
      "No. 264 Tambopata\n",
      "No. 265 Hobyo\n",
      "No. 266 Oranjemund\n",
      "No. 267 Jundiá\n",
      "skip city\n",
      "No. 268 Mackay\n",
      "No. 269 Alofi\n",
      "No. 270 São Filipe\n",
      "No. 271 Jarosław\n",
      "No. 272 Guerrero Negro\n",
      "No. 273 Nouakchott\n",
      "No. 274 Sørland\n",
      "No. 275 Bouza\n",
      "skip city\n",
      "No. 276 Porbandar\n",
      "No. 277 Bathsheba\n",
      "No. 278 Biak\n",
      "No. 279 Volodarskiy\n",
      "No. 280 Mount Gambier\n",
      "No. 281 Belle Fourche\n",
      "No. 282 Bariloche\n",
      "skip city\n",
      "No. 283 Esperance\n",
      "No. 284 Maroua\n",
      "skip city\n",
      "No. 285 Paralímni\n",
      "skip city\n",
      "No. 286 Mahalapye\n",
      "No. 287 Chokurdakh\n",
      "No. 288 Los Llanos de Aridane\n",
      "No. 289 Coquimbo\n",
      "No. 290 Mercedes\n",
      "No. 291 Sandakan\n",
      "No. 292 Klaksvík\n",
      "No. 293 Devgarh\n",
      "No. 294 Basco\n",
      "No. 295 Ucluelet\n",
      "No. 296 Anloga\n",
      "No. 297 Shalya\n",
      "No. 298 Dhaka\n",
      "No. 299 Bulgan\n",
      "No. 300 Tena\n",
      "skip city\n",
      "No. 301 Castro\n",
      "No. 302 Houma\n",
      "No. 303 Bambous Virieux\n",
      "No. 304 Aswān\n",
      "No. 305 Eyl\n",
      "No. 306 Port Blair\n",
      "No. 307 Bischheim\n",
      "No. 308 Buchanan\n",
      "No. 309 Caravelas\n",
      "skip city\n",
      "No. 310 Padang\n",
      "No. 311 Constitución\n",
      "No. 312 Oktyabr'skiy\n",
      "No. 313 Banda Aceh\n",
      "skip city\n",
      "No. 314 Cayenne\n",
      "No. 315 Korla\n",
      "skip city\n",
      "No. 316 Kropotkin\n",
      "skip city\n",
      "No. 317 Shelburne\n",
      "No. 318 Aykhal\n",
      "No. 319 Ajdabiya\n",
      "No. 320 Tuatapere\n",
      "No. 321 Hoima\n",
      "No. 322 Ratnagiri\n",
      "No. 323 Hong Kong\n",
      "No. 324 Kiryat Gat\n",
      "No. 325 Budeşti\n",
      "No. 326 Yumen\n",
      "No. 327 Mahajanga\n",
      "No. 328 Belmonte\n",
      "No. 329 Ahipara\n",
      "No. 330 Smithers\n",
      "No. 331 Ulaangom\n",
      "No. 332 San Cristobal\n",
      "No. 333 Sulangan\n",
      "No. 334 Kachīry\n",
      "No. 335 Rio do Sul\n",
      "No. 336 Ust'-Koksa\n",
      "No. 337 Kumul\n",
      "skip city\n",
      "No. 338 Avera\n",
      "No. 339 Marzuq\n",
      "No. 340 Barra do Garças\n",
      "No. 341 Sena Madureira\n",
      "No. 342 Yulara\n",
      "No. 343 Margate\n",
      "No. 344 Raja\n",
      "No. 345 Conceição do Araguaia\n",
      "No. 346 Salekhard\n",
      "No. 347 Llanes\n",
      "No. 348 Kungsbacka\n",
      "No. 349 Nhulunbuy\n",
      "No. 350 Lima\n",
      "skip city\n",
      "No. 351 Agadez\n",
      "No. 352 Flagstaff\n",
      "No. 353 Pisco\n",
      "No. 354 Tambo Grande\n",
      "No. 355 Caucaia\n",
      "skip city\n",
      "No. 356 Vanimo\n",
      "No. 357 Makkah al Mukarramah\n",
      "No. 358 Myaundzha\n",
      "No. 359 Puerto Colombia\n",
      "No. 360 Walvis Bay\n",
      "No. 361 Kabinda\n",
      "No. 362 Jalu\n",
      "No. 363 Kawalu\n",
      "No. 364 Solnechnyy\n",
      "skip city\n",
      "No. 365 Santa Luzia\n",
      "No. 366 Mormugao\n",
      "No. 367 Tautira\n",
      "No. 368 Nemuro\n",
      "No. 369 Sarti\n",
      "No. 370 Sitka\n",
      "No. 371 Pajapan\n",
      "No. 372 Sola\n",
      "No. 373 Ceyranbatan\n",
      "No. 374 Inuvik\n",
      "No. 375 Henties Bay\n",
      "No. 376 Vaitape\n",
      "No. 377 Hoquiam\n",
      "No. 378 Zhangaözen\n",
      "No. 379 Padampur\n",
      "No. 380 Visnes\n",
      "No. 381 Três Lagoas\n",
      "No. 382 Samfya\n",
      "No. 383 Black River\n",
      "No. 384 Gouré\n",
      "No. 385 Camacha\n",
      "No. 386 Mojo\n",
      "No. 387 Ancud\n",
      "No. 388 Karīmnagar\n",
      "No. 389 Alamosa\n",
      "No. 390 Bonavista\n",
      "No. 391 Puerto del Rosario\n",
      "No. 392 Narsaq\n",
      "No. 393 Anadyr\n",
      "No. 394 Tadpatri\n",
      "No. 395 Karlstad\n",
      "No. 396 Paita\n",
      "No. 397 Salamanca\n",
      "No. 398 Strezhevoy\n",
      "No. 399 Bubaque\n",
      "No. 400 Huilong\n",
      "No. 401 Guarapari\n",
      "No. 402 Comodoro Rivadavia\n",
      "skip city\n",
      "No. 403 Anchorage\n",
      "No. 404 Kiama\n",
      "No. 405 Belyy Yar\n",
      "No. 406 Artyom\n",
      "No. 407 Lucapa\n",
      "No. 408 Qasigiannguit\n",
      "No. 409 Vostok\n",
      "No. 410 Ladovskaya Balka\n",
      "No. 411 Calvià\n",
      "No. 412 Vestmannaeyjar\n",
      "No. 413 Souillac\n",
      "No. 414 Nantucket\n",
      "No. 415 Nouadhibou\n",
      "skip city\n",
      "No. 416 Pontianak\n",
      "No. 417 Olafsvik\n",
      "No. 418 Yatou\n",
      "No. 419 Tayshet\n",
      "No. 420 Valparaíso\n",
      "skip city\n",
      "No. 421 Terra Santa\n",
      "skip city\n",
      "No. 422 Wagar\n",
      "No. 423 Diamantino\n",
      "No. 424 Malbork\n",
      "No. 425 Cap Malheureux\n",
      "No. 426 Bilibino\n",
      "No. 427 Alliance\n",
      "No. 428 Carauari\n",
      "No. 429 Tagusao\n",
      "No. 430 Dudinka\n",
      "No. 431 Liberal\n",
      "No. 432 Houston\n",
      "No. 433 Lorengau\n",
      "No. 434 Nichinan\n",
      "No. 435 Berlevåg\n",
      "No. 436 Tutubigan\n",
      "skip city\n",
      "No. 437 Greenwood\n",
      "No. 438 Urusha\n",
      "No. 439 Krabi\n",
      "No. 440 São Gabriel da Cachoeira\n",
      "No. 441 Nosy Varika\n",
      "No. 442 Dunedin\n",
      "No. 443 Clyde River\n",
      "No. 444 Slantsy\n",
      "skip city\n",
      "No. 445 Orán\n",
      "No. 446 Owando\n",
      "No. 447 Chara\n",
      "No. 448 Yar-Sale\n",
      "No. 449 Mandera\n"
     ]
    },
    {
     "name": "stdout",
     "output_type": "stream",
     "text": [
      "No. 450 Pyshma\n",
      "No. 451 Port Moresby\n",
      "No. 452 Tomatlán\n",
      "No. 453 Cabadiangan\n",
      "No. 454 Naze\n",
      "No. 455 Ojinaga\n",
      "No. 456 Bahile\n",
      "No. 457 Laas\n",
      "No. 458 Erbil\n",
      "No. 459 Boralday\n",
      "No. 460 Broken Hill\n",
      "No. 461 Kudat\n",
      "No. 462 Husavik\n",
      "No. 463 Hambantota\n",
      "No. 464 Sisimiut\n",
      "No. 465 General Roca\n",
      "No. 466 Manavālakurichi\n",
      "No. 467 Volkhov\n",
      "No. 468 Bowen\n",
      "No. 469 Kavieng\n",
      "No. 470 Orange Cove\n",
      "No. 471 Damietta\n",
      "No. 472 Aklavik\n",
      "No. 473 Hamilton\n",
      "No. 474 Simdega\n",
      "No. 475 Faya\n",
      "No. 476 Pospelikha\n",
      "No. 477 Verāval\n",
      "No. 478 Antofagasta\n",
      "No. 479 Svecha\n",
      "No. 480 Hare Bay\n",
      "No. 481 Puerto Escondido\n",
      "No. 482 Makurdi\n",
      "No. 483 Raton\n",
      "No. 484 Krutinka\n",
      "skip city\n",
      "No. 485 Porteirinha\n",
      "No. 486 Hay River\n",
      "No. 487 Adrar\n",
      "skip city\n",
      "No. 488 Venado Tuerto\n",
      "No. 489 Whitehorse\n",
      "No. 490 Pangai\n",
      "No. 491 Aksu\n",
      "No. 492 Southampton\n",
      "No. 493 Kloulklubed\n",
      "No. 494 Río Gallegos\n",
      "No. 495 Morehead\n",
      "No. 496 Fraga\n",
      "No. 497 Westport\n",
      "No. 498 Kimbe\n",
      "skip city\n",
      "No. 499 El Alto\n",
      "No. 500 Maroantsetra\n",
      "No. 501 Aracruz\n",
      "No. 502 Assiut\n",
      "No. 503 Manapparai\n",
      "No. 504 Vuktyl\n",
      "No. 505 Esna\n",
      "No. 506 Aitape\n",
      "No. 507 Atbasar\n",
      "skip city\n",
      "No. 508 West Bay\n",
      "No. 509 Sistranda\n",
      "skip city\n",
      "No. 510 Ossora\n",
      "No. 511 Le Port\n",
      "No. 512 Pacific Grove\n",
      "No. 513 Melfi\n",
      "No. 514 Tayu\n",
      "No. 515 Carutapera\n",
      "No. 516 Bollnäs\n",
      "No. 517 Arys\n",
      "skip city\n",
      "No. 518 Darhan\n",
      "No. 519 Vanavara\n",
      "No. 520 Tonj\n",
      "No. 521 Oruzgan\n",
      "No. 522 Tsarychanka\n",
      "No. 523 Atherton\n",
      "No. 524 Pacifica\n",
      "No. 525 Santo Domingo\n",
      "No. 526 Isabela\n",
      "No. 527 Kharan\n",
      "No. 528 Narón\n",
      "No. 529 Oodweyne\n",
      "No. 530 Tashla\n",
      "No. 531 Sokol\n",
      "No. 532 Juradó\n",
      "No. 533 Mankono\n",
      "No. 534 Saurimo\n",
      "No. 535 Mora\n",
      "No. 536 Masuguru\n",
      "No. 537 Fare\n",
      "No. 538 Vryburg\n",
      "No. 539 Linxia Chengguanzhen\n",
      "No. 540 Killybegs\n",
      "No. 541 Jutaí\n",
      "No. 542 Honiara\n",
      "No. 543 Katsuura\n",
      "No. 544 Pennāthur\n",
      "No. 545 Port-Gentil\n",
      "No. 546 Mobaye\n",
      "No. 547 Soyo\n",
      "No. 548 Hofn\n",
      "The End\n"
     ]
    }
   ],
   "source": [
    "url = \"http://api.openweathermap.org/data/2.5/weather?\"\n",
    "\n",
    "units = \"imperial\"\n",
    "\n",
    "# # Build partial query URL\n",
    "query_url = f\"{url}appid={weather_api_key}&units={units}&q=\"\n",
    "\n",
    "# use a counter to number them\n",
    "counter = 1\n",
    "\n",
    "#create empty lists to hold info\n",
    "city_name = []\n",
    "lat = []\n",
    "lng = []\n",
    "max_temp = []\n",
    "humidity = []\n",
    "cloudiness = []\n",
    "wind_speed = []\n",
    "country = []\n",
    "date = []\n",
    "\n",
    "# # Loop through the list of cities and perform a request for data on each\n",
    "for city in cities:\n",
    "    \n",
    "    try:\n",
    "        response = requests.get(query_url + city).json()\n",
    "        city_name.append(response[\"name\"])\n",
    "        lat.append(response[\"coord\"][\"lat\"])\n",
    "        lng.append(response[\"coord\"][\"lon\"])\n",
    "        max_temp.append(response[\"main\"][\"temp_max\"])\n",
    "        humidity.append(response[\"main\"][\"humidity\"])\n",
    "        cloudiness.append(response[\"clouds\"][\"all\"])\n",
    "        wind_speed.append(response[\"wind\"][\"speed\"])\n",
    "        country.append(response[\"sys\"][\"country\"])\n",
    "        date.append(response[\"dt\"])\n",
    "        city_again = response[\"name\"]\n",
    "        print(f\"No. {counter} {city_again}\")\n",
    "    \n",
    "        counter = counter + 1\n",
    "    except:\n",
    "        print(\"skip city\")\n",
    "    continue\n",
    "\n",
    "# print(json.dumps(response, indent=4)) #this produced all the info on 1 record\n",
    "# print(cities[0:10]) #to see if it's working\n",
    "\n",
    "# print(response)\n",
    "print(f\"The End\")"
   ]
  },
  {
   "cell_type": "markdown",
   "metadata": {},
   "source": [
    "### Convert Raw Data to DataFrame\n",
    "* Export the city data into a .csv.\n",
    "* Display the DataFrame"
   ]
  },
  {
   "cell_type": "code",
   "execution_count": 6,
   "metadata": {},
   "outputs": [
    {
     "data": {
      "text/html": [
       "<div>\n",
       "<style scoped>\n",
       "    .dataframe tbody tr th:only-of-type {\n",
       "        vertical-align: middle;\n",
       "    }\n",
       "\n",
       "    .dataframe tbody tr th {\n",
       "        vertical-align: top;\n",
       "    }\n",
       "\n",
       "    .dataframe thead th {\n",
       "        text-align: right;\n",
       "    }\n",
       "</style>\n",
       "<table border=\"1\" class=\"dataframe\">\n",
       "  <thead>\n",
       "    <tr style=\"text-align: right;\">\n",
       "      <th></th>\n",
       "      <th>City</th>\n",
       "      <th>Latitude</th>\n",
       "      <th>Longitude</th>\n",
       "      <th>Max Temp</th>\n",
       "      <th>Humidity</th>\n",
       "      <th>Cloudiness</th>\n",
       "      <th>Wind Speed</th>\n",
       "      <th>Country</th>\n",
       "      <th>Date</th>\n",
       "    </tr>\n",
       "  </thead>\n",
       "  <tbody>\n",
       "    <tr>\n",
       "      <th>0</th>\n",
       "      <td>East London</td>\n",
       "      <td>-33.02</td>\n",
       "      <td>27.91</td>\n",
       "      <td>71.78</td>\n",
       "      <td>27</td>\n",
       "      <td>0</td>\n",
       "      <td>7.85</td>\n",
       "      <td>ZA</td>\n",
       "      <td>1596389458</td>\n",
       "    </tr>\n",
       "    <tr>\n",
       "      <th>1</th>\n",
       "      <td>Kahului</td>\n",
       "      <td>20.89</td>\n",
       "      <td>-156.47</td>\n",
       "      <td>77.00</td>\n",
       "      <td>69</td>\n",
       "      <td>40</td>\n",
       "      <td>16.11</td>\n",
       "      <td>US</td>\n",
       "      <td>1596389430</td>\n",
       "    </tr>\n",
       "    <tr>\n",
       "      <th>2</th>\n",
       "      <td>Hobart</td>\n",
       "      <td>-42.88</td>\n",
       "      <td>147.33</td>\n",
       "      <td>48.00</td>\n",
       "      <td>75</td>\n",
       "      <td>40</td>\n",
       "      <td>9.17</td>\n",
       "      <td>AU</td>\n",
       "      <td>1596389435</td>\n",
       "    </tr>\n",
       "    <tr>\n",
       "      <th>3</th>\n",
       "      <td>Kulhudhuffushi</td>\n",
       "      <td>6.62</td>\n",
       "      <td>73.07</td>\n",
       "      <td>82.76</td>\n",
       "      <td>81</td>\n",
       "      <td>100</td>\n",
       "      <td>19.22</td>\n",
       "      <td>MV</td>\n",
       "      <td>1596389444</td>\n",
       "    </tr>\n",
       "    <tr>\n",
       "      <th>4</th>\n",
       "      <td>Thompson</td>\n",
       "      <td>55.74</td>\n",
       "      <td>-97.86</td>\n",
       "      <td>73.40</td>\n",
       "      <td>38</td>\n",
       "      <td>20</td>\n",
       "      <td>3.36</td>\n",
       "      <td>CA</td>\n",
       "      <td>1596389278</td>\n",
       "    </tr>\n",
       "  </tbody>\n",
       "</table>\n",
       "</div>"
      ],
      "text/plain": [
       "             City  Latitude  Longitude  Max Temp  Humidity  Cloudiness  \\\n",
       "0     East London    -33.02      27.91     71.78        27           0   \n",
       "1         Kahului     20.89    -156.47     77.00        69          40   \n",
       "2          Hobart    -42.88     147.33     48.00        75          40   \n",
       "3  Kulhudhuffushi      6.62      73.07     82.76        81         100   \n",
       "4        Thompson     55.74     -97.86     73.40        38          20   \n",
       "\n",
       "   Wind Speed Country        Date  \n",
       "0        7.85      ZA  1596389458  \n",
       "1       16.11      US  1596389430  \n",
       "2        9.17      AU  1596389435  \n",
       "3       19.22      MV  1596389444  \n",
       "4        3.36      CA  1596389278  "
      ]
     },
     "execution_count": 6,
     "metadata": {},
     "output_type": "execute_result"
    }
   ],
   "source": [
    "weather_dict = {\n",
    "    \"City\": city_name,\n",
    "    \"Latitude\": lat,\n",
    "    \"Longitude\": lng,\n",
    "    \"Max Temp\": max_temp,\n",
    "    \"Humidity\": humidity,\n",
    "    \"Cloudiness\": cloudiness,\n",
    "    \"Wind Speed\": wind_speed,\n",
    "    \"Country\": country,\n",
    "    \"Date\": date\n",
    "}\n",
    "\n",
    "weather_df = pd.DataFrame(weather_dict)\n",
    "weather_df.head()"
   ]
  },
  {
   "cell_type": "code",
   "execution_count": 7,
   "metadata": {},
   "outputs": [
    {
     "data": {
      "text/plain": [
       "City          548\n",
       "Latitude      548\n",
       "Longitude     548\n",
       "Max Temp      548\n",
       "Humidity      548\n",
       "Cloudiness    548\n",
       "Wind Speed    548\n",
       "Country       548\n",
       "Date          548\n",
       "dtype: int64"
      ]
     },
     "execution_count": 7,
     "metadata": {},
     "output_type": "execute_result"
    }
   ],
   "source": [
    "weather_df.count()"
   ]
  },
  {
   "cell_type": "markdown",
   "metadata": {},
   "source": [
    "## Inspect the data and remove the cities where the humidity > 100%.\n",
    "----\n",
    "Skip this step if there are no cities that have humidity > 100%. "
   ]
  },
  {
   "cell_type": "code",
   "execution_count": 8,
   "metadata": {},
   "outputs": [
    {
     "data": {
      "text/plain": [
       "City          0\n",
       "Latitude      0\n",
       "Longitude     0\n",
       "Max Temp      0\n",
       "Humidity      0\n",
       "Cloudiness    0\n",
       "Wind Speed    0\n",
       "Country       0\n",
       "Date          0\n",
       "dtype: int64"
      ]
     },
     "execution_count": 8,
     "metadata": {},
     "output_type": "execute_result"
    }
   ],
   "source": [
    "less_humid = weather_df.loc[weather_df[\"Humidity\"]>100]\n",
    "less_humid.count()"
   ]
  },
  {
   "cell_type": "code",
   "execution_count": 7,
   "metadata": {},
   "outputs": [
    {
     "data": {
      "text/plain": [
       "Int64Index([], dtype='int64')"
      ]
     },
     "execution_count": 7,
     "metadata": {},
     "output_type": "execute_result"
    }
   ],
   "source": [
    "# Get the indices of cities that have humidity over 100%.\n",
    "# Not applicable, no cities with humidity over 100"
   ]
  },
  {
   "cell_type": "code",
   "execution_count": 1,
   "metadata": {},
   "outputs": [],
   "source": [
    "# Make a new DataFrame equal to the city data to drop all humidity outliers by index.\n",
    "# Passing \"inplace=False\" will make a copy of the city_data DataFrame, which we call \"clean_city_data\".\n",
    "# Not applicable, no cities with humidity over 100"
   ]
  },
  {
   "cell_type": "code",
   "execution_count": null,
   "metadata": {},
   "outputs": [],
   "source": [
    "# Extract relevant fields from the data frame\n",
    "# Not applicable, no cities with humidity over 100"
   ]
  },
  {
   "cell_type": "code",
   "execution_count": 56,
   "metadata": {},
   "outputs": [],
   "source": [
    "# Export the City_Data into a csv\n",
    "weather_df.to_csv(output_data_file, index=False, header=True)"
   ]
  },
  {
   "cell_type": "markdown",
   "metadata": {},
   "source": [
    "## Plotting the Data\n",
    "* Use proper labeling of the plots using plot titles (including date of analysis) and axes labels.\n",
    "* Save the plotted figures as .pngs."
   ]
  },
  {
   "cell_type": "markdown",
   "metadata": {},
   "source": [
    "## Latitude vs. Temperature Plot"
   ]
  },
  {
   "cell_type": "code",
   "execution_count": 62,
   "metadata": {},
   "outputs": [
    {
     "data": {
      "image/png": "[encoded data removed]",
      "text/plain": [
       "<Figure size 432x288 with 1 Axes>"
      ]
     },
     "metadata": {
      "needs_background": "light"
     },
     "output_type": "display_data"
    }
   ],
   "source": [
    "plt.scatter(weather_df[\"Latitude\"], weather_df[\"Max Temp\"], marker=\"^\", facecolors=\"green\")\n",
    "\n",
    "plt.title(f\"Latitude vs. Max Temperature in each city (%s)\" % time.strftime(\"%x\"))\n",
    "plt.ylabel(\"Temperature (F)\")\n",
    "plt.xlabel(\"Latitude\")\n",
    "\n",
    "plt.savefig (\"../output_data/Lat_v_Temp.png\")\n",
    "\n",
    "plt.show()"
   ]
  },
  {
   "cell_type": "markdown",
   "metadata": {},
   "source": [
    "The Latitude vs. Max Temperature plot shows, for the cities selected at random, those that are closesr to 25 degrees latitude have shown to have higher maximum temperatures. As you travel north or south from 25 degrees latitude the maximum temperature falls."
   ]
  },
  {
   "cell_type": "markdown",
   "metadata": {},
   "source": [
    "## Latitude vs. Humidity Plot"
   ]
  },
  {
   "cell_type": "code",
   "execution_count": 64,
   "metadata": {},
   "outputs": [
    {
     "data": {
      "image/png": "[encoded data removed]",
      "text/plain": [
       "<Figure size 432x288 with 1 Axes>"
      ]
     },
     "metadata": {
      "needs_background": "light"
     },
     "output_type": "display_data"
    }
   ],
   "source": [
    "plt.scatter(weather_df[\"Latitude\"], weather_df[\"Humidity\"], marker=\"^\", facecolors=\"grey\")\n",
    "\n",
    "plt.title(\"Latitude vs. Humidity in each city (%s)\" % time.strftime(\"%x\"))\n",
    "plt.ylabel(\"Humidity\")\n",
    "plt.xlabel(\"Latitude\")\n",
    "\n",
    "plt.savefig (\"../output_data/Lat_v_Humid.png\")\n",
    "\n",
    "plt.show()"
   ]
  },
  {
   "cell_type": "markdown",
   "metadata": {},
   "source": [
    "The Latitude vs. Humidity plot shows, for the randomly selected cities, humidity and latitude are not closely related. There is distribution of high humidity from the southern hemisphere through the northern."
   ]
  },
  {
   "cell_type": "markdown",
   "metadata": {},
   "source": [
    "## Latitude vs. Cloudiness Plot"
   ]
  },
  {
   "cell_type": "code",
   "execution_count": 65,
   "metadata": {},
   "outputs": [
    {
     "data": {
      "image/png": "[encoded data removed]",
      "text/plain": [
       "<Figure size 432x288 with 1 Axes>"
      ]
     },
     "metadata": {
      "needs_background": "light"
     },
     "output_type": "display_data"
    }
   ],
   "source": [
    "plt.scatter(weather_df[\"Latitude\"], weather_df[\"Cloudiness\"], marker=\"^\", facecolors=\"blue\")\n",
    "plt.title(\"Latitude vs. Cloudiness in each city (%s)\" % time.strftime(\"%x\"))\n",
    "plt.ylabel(\"Cloudiness\")\n",
    "plt.xlabel(\"Latitude\")\n",
    "\n",
    "plt.savefig (\"../output_data/Lat_v_Clouds.png\")\n",
    "\n",
    "plt.show()"
   ]
  },
  {
   "cell_type": "markdown",
   "metadata": {},
   "source": [
    "The Latitude vs. Cloudiness plot tells us, for the randomly selected cities, that cloudiness and latitude do not have a strong correlation."
   ]
  },
  {
   "cell_type": "markdown",
   "metadata": {},
   "source": [
    "## Latitude vs. Wind Speed Plot"
   ]
  },
  {
   "cell_type": "code",
   "execution_count": 66,
   "metadata": {},
   "outputs": [
    {
     "data": {
      "image/png": "[encoded data removed]",
      "text/plain": [
       "<Figure size 432x288 with 1 Axes>"
      ]
     },
     "metadata": {
      "needs_background": "light"
     },
     "output_type": "display_data"
    }
   ],
   "source": [
    "plt.scatter(weather_df[\"Latitude\"], weather_df[\"Wind Speed\"], marker=\"^\", facecolors=\"yellow\", edgecolor=\"black\")\n",
    "\n",
    "plt.title(\"Latitude vs. Wind Speed in each city (%s)\" % time.strftime(\"%x\"))\n",
    "plt.ylabel(\"Wind Speed (mph)\")\n",
    "plt.xlabel(\"Latitude\")\n",
    "\n",
    "plt.savefig (\"../output_data/Lat_v_WindS.png\")\n",
    "\n",
    "plt.show()"
   ]
  },
  {
   "cell_type": "markdown",
   "metadata": {},
   "source": [
    "The Latitude vs. Wind Speed plot shows a relatively wide distribution across all latitudes of wind speeds 0-10 mph."
   ]
  },
  {
   "cell_type": "markdown",
   "metadata": {},
   "source": [
    "## Linear Regression"
   ]
  },
  {
   "cell_type": "code",
   "execution_count": 14,
   "metadata": {},
   "outputs": [],
   "source": [
    "# OPTIONAL: Create a function to create Linear Regression plots"
   ]
  },
  {
   "cell_type": "code",
   "execution_count": 15,
   "metadata": {},
   "outputs": [],
   "source": [
    "# Create Northern and Southern Hemisphere DataFrames"
   ]
  },
  {
   "cell_type": "code",
   "execution_count": 21,
   "metadata": {},
   "outputs": [
    {
     "data": {
      "text/html": [
       "<div>\n",
       "<style scoped>\n",
       "    .dataframe tbody tr th:only-of-type {\n",
       "        vertical-align: middle;\n",
       "    }\n",
       "\n",
       "    .dataframe tbody tr th {\n",
       "        vertical-align: top;\n",
       "    }\n",
       "\n",
       "    .dataframe thead th {\n",
       "        text-align: right;\n",
       "    }\n",
       "</style>\n",
       "<table border=\"1\" class=\"dataframe\">\n",
       "  <thead>\n",
       "    <tr style=\"text-align: right;\">\n",
       "      <th></th>\n",
       "      <th>City</th>\n",
       "      <th>Latitude</th>\n",
       "      <th>Longitude</th>\n",
       "      <th>Max Temp</th>\n",
       "      <th>Humidity</th>\n",
       "      <th>Cloudiness</th>\n",
       "      <th>Wind Speed</th>\n",
       "      <th>Country</th>\n",
       "      <th>Date</th>\n",
       "    </tr>\n",
       "  </thead>\n",
       "  <tbody>\n",
       "    <tr>\n",
       "      <th>1</th>\n",
       "      <td>Kahului</td>\n",
       "      <td>20.89</td>\n",
       "      <td>-156.47</td>\n",
       "      <td>77.00</td>\n",
       "      <td>69</td>\n",
       "      <td>40</td>\n",
       "      <td>16.11</td>\n",
       "      <td>US</td>\n",
       "      <td>1596389430</td>\n",
       "    </tr>\n",
       "    <tr>\n",
       "      <th>3</th>\n",
       "      <td>Kulhudhuffushi</td>\n",
       "      <td>6.62</td>\n",
       "      <td>73.07</td>\n",
       "      <td>82.76</td>\n",
       "      <td>81</td>\n",
       "      <td>100</td>\n",
       "      <td>19.22</td>\n",
       "      <td>MV</td>\n",
       "      <td>1596389444</td>\n",
       "    </tr>\n",
       "    <tr>\n",
       "      <th>4</th>\n",
       "      <td>Thompson</td>\n",
       "      <td>55.74</td>\n",
       "      <td>-97.86</td>\n",
       "      <td>73.40</td>\n",
       "      <td>38</td>\n",
       "      <td>20</td>\n",
       "      <td>3.36</td>\n",
       "      <td>CA</td>\n",
       "      <td>1596389278</td>\n",
       "    </tr>\n",
       "    <tr>\n",
       "      <th>5</th>\n",
       "      <td>Sinnamary</td>\n",
       "      <td>5.38</td>\n",
       "      <td>-52.95</td>\n",
       "      <td>82.80</td>\n",
       "      <td>76</td>\n",
       "      <td>36</td>\n",
       "      <td>10.96</td>\n",
       "      <td>GF</td>\n",
       "      <td>1596389460</td>\n",
       "    </tr>\n",
       "    <tr>\n",
       "      <th>6</th>\n",
       "      <td>Barrow</td>\n",
       "      <td>71.29</td>\n",
       "      <td>-156.79</td>\n",
       "      <td>37.40</td>\n",
       "      <td>86</td>\n",
       "      <td>90</td>\n",
       "      <td>9.17</td>\n",
       "      <td>US</td>\n",
       "      <td>1596389460</td>\n",
       "    </tr>\n",
       "  </tbody>\n",
       "</table>\n",
       "</div>"
      ],
      "text/plain": [
       "             City  Latitude  Longitude  Max Temp  Humidity  Cloudiness  \\\n",
       "1         Kahului     20.89    -156.47     77.00        69          40   \n",
       "3  Kulhudhuffushi      6.62      73.07     82.76        81         100   \n",
       "4        Thompson     55.74     -97.86     73.40        38          20   \n",
       "5       Sinnamary      5.38     -52.95     82.80        76          36   \n",
       "6          Barrow     71.29    -156.79     37.40        86          90   \n",
       "\n",
       "   Wind Speed Country        Date  \n",
       "1       16.11      US  1596389430  \n",
       "3       19.22      MV  1596389444  \n",
       "4        3.36      CA  1596389278  \n",
       "5       10.96      GF  1596389460  \n",
       "6        9.17      US  1596389460  "
      ]
     },
     "execution_count": 21,
     "metadata": {},
     "output_type": "execute_result"
    }
   ],
   "source": [
    "northern_hemi = weather_df.loc[weather_df[\"Latitude\"].between(1,90)]\n",
    "# northern_hemi.count()\n",
    "northern_hemi.head()"
   ]
  },
  {
   "cell_type": "code",
   "execution_count": 22,
   "metadata": {},
   "outputs": [
    {
     "data": {
      "text/html": [
       "<div>\n",
       "<style scoped>\n",
       "    .dataframe tbody tr th:only-of-type {\n",
       "        vertical-align: middle;\n",
       "    }\n",
       "\n",
       "    .dataframe tbody tr th {\n",
       "        vertical-align: top;\n",
       "    }\n",
       "\n",
       "    .dataframe thead th {\n",
       "        text-align: right;\n",
       "    }\n",
       "</style>\n",
       "<table border=\"1\" class=\"dataframe\">\n",
       "  <thead>\n",
       "    <tr style=\"text-align: right;\">\n",
       "      <th></th>\n",
       "      <th>City</th>\n",
       "      <th>Latitude</th>\n",
       "      <th>Longitude</th>\n",
       "      <th>Max Temp</th>\n",
       "      <th>Humidity</th>\n",
       "      <th>Cloudiness</th>\n",
       "      <th>Wind Speed</th>\n",
       "      <th>Country</th>\n",
       "      <th>Date</th>\n",
       "    </tr>\n",
       "  </thead>\n",
       "  <tbody>\n",
       "    <tr>\n",
       "      <th>1</th>\n",
       "      <td>Kahului</td>\n",
       "      <td>20.89</td>\n",
       "      <td>-156.47</td>\n",
       "      <td>77.00</td>\n",
       "      <td>69</td>\n",
       "      <td>40</td>\n",
       "      <td>16.11</td>\n",
       "      <td>US</td>\n",
       "      <td>1596389430</td>\n",
       "    </tr>\n",
       "    <tr>\n",
       "      <th>3</th>\n",
       "      <td>Kulhudhuffushi</td>\n",
       "      <td>6.62</td>\n",
       "      <td>73.07</td>\n",
       "      <td>82.76</td>\n",
       "      <td>81</td>\n",
       "      <td>100</td>\n",
       "      <td>19.22</td>\n",
       "      <td>MV</td>\n",
       "      <td>1596389444</td>\n",
       "    </tr>\n",
       "    <tr>\n",
       "      <th>4</th>\n",
       "      <td>Thompson</td>\n",
       "      <td>55.74</td>\n",
       "      <td>-97.86</td>\n",
       "      <td>73.40</td>\n",
       "      <td>38</td>\n",
       "      <td>20</td>\n",
       "      <td>3.36</td>\n",
       "      <td>CA</td>\n",
       "      <td>1596389278</td>\n",
       "    </tr>\n",
       "    <tr>\n",
       "      <th>5</th>\n",
       "      <td>Sinnamary</td>\n",
       "      <td>5.38</td>\n",
       "      <td>-52.95</td>\n",
       "      <td>82.80</td>\n",
       "      <td>76</td>\n",
       "      <td>36</td>\n",
       "      <td>10.96</td>\n",
       "      <td>GF</td>\n",
       "      <td>1596389460</td>\n",
       "    </tr>\n",
       "    <tr>\n",
       "      <th>6</th>\n",
       "      <td>Barrow</td>\n",
       "      <td>71.29</td>\n",
       "      <td>-156.79</td>\n",
       "      <td>37.40</td>\n",
       "      <td>86</td>\n",
       "      <td>90</td>\n",
       "      <td>9.17</td>\n",
       "      <td>US</td>\n",
       "      <td>1596389460</td>\n",
       "    </tr>\n",
       "  </tbody>\n",
       "</table>\n",
       "</div>"
      ],
      "text/plain": [
       "             City  Latitude  Longitude  Max Temp  Humidity  Cloudiness  \\\n",
       "1         Kahului     20.89    -156.47     77.00        69          40   \n",
       "3  Kulhudhuffushi      6.62      73.07     82.76        81         100   \n",
       "4        Thompson     55.74     -97.86     73.40        38          20   \n",
       "5       Sinnamary      5.38     -52.95     82.80        76          36   \n",
       "6          Barrow     71.29    -156.79     37.40        86          90   \n",
       "\n",
       "   Wind Speed Country        Date  \n",
       "1       16.11      US  1596389430  \n",
       "3       19.22      MV  1596389444  \n",
       "4        3.36      CA  1596389278  \n",
       "5       10.96      GF  1596389460  \n",
       "6        9.17      US  1596389460  "
      ]
     },
     "execution_count": 22,
     "metadata": {},
     "output_type": "execute_result"
    }
   ],
   "source": [
    "northern_hemi_df = pd.DataFrame(northern_hemi)\n",
    "# northern_hemi_df.count()\n",
    "northern_hemi_df.head()"
   ]
  },
  {
   "cell_type": "code",
   "execution_count": 23,
   "metadata": {},
   "outputs": [
    {
     "data": {
      "text/html": [
       "<div>\n",
       "<style scoped>\n",
       "    .dataframe tbody tr th:only-of-type {\n",
       "        vertical-align: middle;\n",
       "    }\n",
       "\n",
       "    .dataframe tbody tr th {\n",
       "        vertical-align: top;\n",
       "    }\n",
       "\n",
       "    .dataframe thead th {\n",
       "        text-align: right;\n",
       "    }\n",
       "</style>\n",
       "<table border=\"1\" class=\"dataframe\">\n",
       "  <thead>\n",
       "    <tr style=\"text-align: right;\">\n",
       "      <th></th>\n",
       "      <th>City</th>\n",
       "      <th>Latitude</th>\n",
       "      <th>Longitude</th>\n",
       "      <th>Max Temp</th>\n",
       "      <th>Humidity</th>\n",
       "      <th>Cloudiness</th>\n",
       "      <th>Wind Speed</th>\n",
       "      <th>Country</th>\n",
       "      <th>Date</th>\n",
       "    </tr>\n",
       "  </thead>\n",
       "  <tbody>\n",
       "    <tr>\n",
       "      <th>0</th>\n",
       "      <td>East London</td>\n",
       "      <td>-33.02</td>\n",
       "      <td>27.91</td>\n",
       "      <td>71.78</td>\n",
       "      <td>27</td>\n",
       "      <td>0</td>\n",
       "      <td>7.85</td>\n",
       "      <td>ZA</td>\n",
       "      <td>1596389458</td>\n",
       "    </tr>\n",
       "    <tr>\n",
       "      <th>2</th>\n",
       "      <td>Hobart</td>\n",
       "      <td>-42.88</td>\n",
       "      <td>147.33</td>\n",
       "      <td>48.00</td>\n",
       "      <td>75</td>\n",
       "      <td>40</td>\n",
       "      <td>9.17</td>\n",
       "      <td>AU</td>\n",
       "      <td>1596389435</td>\n",
       "    </tr>\n",
       "    <tr>\n",
       "      <th>10</th>\n",
       "      <td>Chui</td>\n",
       "      <td>-33.70</td>\n",
       "      <td>-53.46</td>\n",
       "      <td>65.97</td>\n",
       "      <td>80</td>\n",
       "      <td>100</td>\n",
       "      <td>1.79</td>\n",
       "      <td>UY</td>\n",
       "      <td>1596389461</td>\n",
       "    </tr>\n",
       "    <tr>\n",
       "      <th>11</th>\n",
       "      <td>Mataura</td>\n",
       "      <td>-46.19</td>\n",
       "      <td>168.86</td>\n",
       "      <td>47.17</td>\n",
       "      <td>95</td>\n",
       "      <td>72</td>\n",
       "      <td>2.10</td>\n",
       "      <td>NZ</td>\n",
       "      <td>1596389461</td>\n",
       "    </tr>\n",
       "    <tr>\n",
       "      <th>13</th>\n",
       "      <td>Arraial do Cabo</td>\n",
       "      <td>-22.97</td>\n",
       "      <td>-42.03</td>\n",
       "      <td>75.20</td>\n",
       "      <td>53</td>\n",
       "      <td>40</td>\n",
       "      <td>10.29</td>\n",
       "      <td>BR</td>\n",
       "      <td>1596389284</td>\n",
       "    </tr>\n",
       "  </tbody>\n",
       "</table>\n",
       "</div>"
      ],
      "text/plain": [
       "               City  Latitude  Longitude  Max Temp  Humidity  Cloudiness  \\\n",
       "0       East London    -33.02      27.91     71.78        27           0   \n",
       "2            Hobart    -42.88     147.33     48.00        75          40   \n",
       "10             Chui    -33.70     -53.46     65.97        80         100   \n",
       "11          Mataura    -46.19     168.86     47.17        95          72   \n",
       "13  Arraial do Cabo    -22.97     -42.03     75.20        53          40   \n",
       "\n",
       "    Wind Speed Country        Date  \n",
       "0         7.85      ZA  1596389458  \n",
       "2         9.17      AU  1596389435  \n",
       "10        1.79      UY  1596389461  \n",
       "11        2.10      NZ  1596389461  \n",
       "13       10.29      BR  1596389284  "
      ]
     },
     "execution_count": 23,
     "metadata": {},
     "output_type": "execute_result"
    }
   ],
   "source": [
    "southern_hemi = weather_df.loc[weather_df[\"Latitude\"].between(-90, 0)]\n",
    "# southern_hemi.count()\n",
    "southern_hemi.head()"
   ]
  },
  {
   "cell_type": "code",
   "execution_count": 24,
   "metadata": {},
   "outputs": [
    {
     "data": {
      "text/html": [
       "<div>\n",
       "<style scoped>\n",
       "    .dataframe tbody tr th:only-of-type {\n",
       "        vertical-align: middle;\n",
       "    }\n",
       "\n",
       "    .dataframe tbody tr th {\n",
       "        vertical-align: top;\n",
       "    }\n",
       "\n",
       "    .dataframe thead th {\n",
       "        text-align: right;\n",
       "    }\n",
       "</style>\n",
       "<table border=\"1\" class=\"dataframe\">\n",
       "  <thead>\n",
       "    <tr style=\"text-align: right;\">\n",
       "      <th></th>\n",
       "      <th>City</th>\n",
       "      <th>Latitude</th>\n",
       "      <th>Longitude</th>\n",
       "      <th>Max Temp</th>\n",
       "      <th>Humidity</th>\n",
       "      <th>Cloudiness</th>\n",
       "      <th>Wind Speed</th>\n",
       "      <th>Country</th>\n",
       "      <th>Date</th>\n",
       "    </tr>\n",
       "  </thead>\n",
       "  <tbody>\n",
       "    <tr>\n",
       "      <th>0</th>\n",
       "      <td>East London</td>\n",
       "      <td>-33.02</td>\n",
       "      <td>27.91</td>\n",
       "      <td>71.78</td>\n",
       "      <td>27</td>\n",
       "      <td>0</td>\n",
       "      <td>7.85</td>\n",
       "      <td>ZA</td>\n",
       "      <td>1596389458</td>\n",
       "    </tr>\n",
       "    <tr>\n",
       "      <th>2</th>\n",
       "      <td>Hobart</td>\n",
       "      <td>-42.88</td>\n",
       "      <td>147.33</td>\n",
       "      <td>48.00</td>\n",
       "      <td>75</td>\n",
       "      <td>40</td>\n",
       "      <td>9.17</td>\n",
       "      <td>AU</td>\n",
       "      <td>1596389435</td>\n",
       "    </tr>\n",
       "    <tr>\n",
       "      <th>10</th>\n",
       "      <td>Chui</td>\n",
       "      <td>-33.70</td>\n",
       "      <td>-53.46</td>\n",
       "      <td>65.97</td>\n",
       "      <td>80</td>\n",
       "      <td>100</td>\n",
       "      <td>1.79</td>\n",
       "      <td>UY</td>\n",
       "      <td>1596389461</td>\n",
       "    </tr>\n",
       "    <tr>\n",
       "      <th>11</th>\n",
       "      <td>Mataura</td>\n",
       "      <td>-46.19</td>\n",
       "      <td>168.86</td>\n",
       "      <td>47.17</td>\n",
       "      <td>95</td>\n",
       "      <td>72</td>\n",
       "      <td>2.10</td>\n",
       "      <td>NZ</td>\n",
       "      <td>1596389461</td>\n",
       "    </tr>\n",
       "    <tr>\n",
       "      <th>13</th>\n",
       "      <td>Arraial do Cabo</td>\n",
       "      <td>-22.97</td>\n",
       "      <td>-42.03</td>\n",
       "      <td>75.20</td>\n",
       "      <td>53</td>\n",
       "      <td>40</td>\n",
       "      <td>10.29</td>\n",
       "      <td>BR</td>\n",
       "      <td>1596389284</td>\n",
       "    </tr>\n",
       "  </tbody>\n",
       "</table>\n",
       "</div>"
      ],
      "text/plain": [
       "               City  Latitude  Longitude  Max Temp  Humidity  Cloudiness  \\\n",
       "0       East London    -33.02      27.91     71.78        27           0   \n",
       "2            Hobart    -42.88     147.33     48.00        75          40   \n",
       "10             Chui    -33.70     -53.46     65.97        80         100   \n",
       "11          Mataura    -46.19     168.86     47.17        95          72   \n",
       "13  Arraial do Cabo    -22.97     -42.03     75.20        53          40   \n",
       "\n",
       "    Wind Speed Country        Date  \n",
       "0         7.85      ZA  1596389458  \n",
       "2         9.17      AU  1596389435  \n",
       "10        1.79      UY  1596389461  \n",
       "11        2.10      NZ  1596389461  \n",
       "13       10.29      BR  1596389284  "
      ]
     },
     "execution_count": 24,
     "metadata": {},
     "output_type": "execute_result"
    }
   ],
   "source": [
    "southern_hemi_df = pd.DataFrame(southern_hemi)\n",
    "# southern_hemi_df.count()\n",
    "southern_hemi_df.head()"
   ]
  },
  {
   "cell_type": "markdown",
   "metadata": {},
   "source": [
    "####  Northern Hemisphere - Max Temp vs. Latitude Linear Regression"
   ]
  },
  {
   "cell_type": "code",
   "execution_count": 76,
   "metadata": {},
   "outputs": [
    {
     "name": "stdout",
     "output_type": "stream",
     "text": [
      "The r-squared is: 0.5235136722610468\n"
     ]
    },
    {
     "data": {
      "image/png": "[encoded data removed]",
      "text/plain": [
       "<Figure size 432x288 with 1 Axes>"
      ]
     },
     "metadata": {
      "needs_background": "light"
     },
     "output_type": "display_data"
    }
   ],
   "source": [
    "x_values = northern_hemi_df[\"Latitude\"]\n",
    "y_values = northern_hemi_df[\"Max Temp\"]\n",
    "\n",
    "(slope, intercept, rvalue, pvalue, stderr) = linregress(x_values, y_values)\n",
    "regress_values = x_values * slope + intercept\n",
    "line_eq = \"y = \" + str(round(slope,2)) + \"x + \" + str(round(intercept,2))\n",
    "\n",
    "plt.scatter(x_values, y_values)\n",
    "plt.plot(x_values,regress_values,\"r-\")\n",
    "\n",
    "plt.annotate(line_eq,(10,40),fontsize=15,color=\"red\")\n",
    "plt.xlabel(\"Latitude\")\n",
    "plt.ylabel(\"Max Temperature (F)\")\n",
    "plt.title(\"Northern Hemisphere - Max Temp vs. Latitude \\n Linear Regression (%s)\" % time.strftime(\"%x\"))\n",
    "print(f\"The r-squared is: {rvalue**2}\")\n",
    "\n",
    "plt.savefig (\"../output_data/N_MaxTempvLat.png\")\n",
    "\n",
    "plt.show()"
   ]
  },
  {
   "cell_type": "markdown",
   "metadata": {},
   "source": [
    "####  Southern Hemisphere - Max Temp vs. Latitude Linear Regression"
   ]
  },
  {
   "cell_type": "code",
   "execution_count": 77,
   "metadata": {},
   "outputs": [
    {
     "name": "stdout",
     "output_type": "stream",
     "text": [
      "The r-squared is: 0.5248950606963652\n"
     ]
    },
    {
     "data": {
      "image/png": "[encoded data removed]",
      "text/plain": [
       "<Figure size 432x288 with 1 Axes>"
      ]
     },
     "metadata": {
      "needs_background": "light"
     },
     "output_type": "display_data"
    }
   ],
   "source": [
    "x_values = southern_hemi_df[\"Latitude\"]\n",
    "y_values = southern_hemi_df[\"Max Temp\"]\n",
    "\n",
    "(slope, intercept, rvalue, pvalue, stderr) = linregress(x_values, y_values)\n",
    "regress_values = x_values * slope + intercept\n",
    "line_eq = \"y = \" + str(round(slope,2)) + \"x + \" + str(round(intercept,2))\n",
    "\n",
    "plt.scatter(x_values, y_values)\n",
    "plt.plot(x_values,regress_values,\"r-\")\n",
    "\n",
    "plt.annotate(line_eq,(-55,80),fontsize=15,color=\"red\")\n",
    "plt.xlabel(\"Latitude\")\n",
    "plt.ylabel(\"Max Temperature (F)\")\n",
    "plt.title(\"Southern Hemisphere - Max Temp vs. Latitude \\n Linear Regression (%s)\" % time.strftime(\"%x\"))\n",
    "print(f\"The r-squared is: {rvalue**2}\")\n",
    "\n",
    "plt.savefig (\"../output_data/S_MaxTempvLat.png\")\n",
    "\n",
    "plt.show()"
   ]
  },
  {
   "cell_type": "markdown",
   "metadata": {},
   "source": [
    "For the Northern and Southern Hemisphere Max Temp v. Latitude plots, as we would expect, the linear regression model shows as we move north from the equator, the temperature consistenly drops and in the Southern hemisphere, as we move south from the equator, the temperature consistenly drops."
   ]
  },
  {
   "cell_type": "markdown",
   "metadata": {},
   "source": [
    "####  Northern Hemisphere - Humidity (%) vs. Latitude Linear Regression"
   ]
  },
  {
   "cell_type": "code",
   "execution_count": 75,
   "metadata": {},
   "outputs": [
    {
     "name": "stdout",
     "output_type": "stream",
     "text": [
      "The r-squared is: 0.005029061241192122\n"
     ]
    },
    {
     "data": {
      "image/png": "[encoded data removed]",
      "text/plain": [
       "<Figure size 432x288 with 1 Axes>"
      ]
     },
     "metadata": {
      "needs_background": "light"
     },
     "output_type": "display_data"
    }
   ],
   "source": [
    "x_values = northern_hemi_df[\"Latitude\"]\n",
    "y_values = northern_hemi_df[\"Humidity\"]\n",
    "\n",
    "(slope, intercept, rvalue, pvalue, stderr) = linregress(x_values, y_values)\n",
    "regress_values = x_values * slope + intercept\n",
    "line_eq = \"y = \" + str(round(slope,2)) + \"x + \" + str(round(intercept,2))\n",
    "\n",
    "plt.scatter(x_values, y_values)\n",
    "plt.plot(x_values,regress_values,\"r-\")\n",
    "\n",
    "plt.annotate(line_eq,(45,10),fontsize=15,color=\"red\")\n",
    "plt.xlabel(\"Latitude\")\n",
    "plt.ylabel(\"Humidity (%)\")\n",
    "plt.title(\"Northern Hemisphere - Humidity vs. Latitude \\n Linear Regression (%s)\" % time.strftime(\"%x\"))\n",
    "\n",
    "print(f\"The r-squared is: {rvalue**2}\")\n",
    "\n",
    "plt.savefig (\"../output_data/N_HumidvLat.png\")\n",
    "\n",
    "plt.show()"
   ]
  },
  {
   "cell_type": "markdown",
   "metadata": {},
   "source": [
    "####  Southern Hemisphere - Humidity (%) vs. Latitude Linear Regression"
   ]
  },
  {
   "cell_type": "code",
   "execution_count": 78,
   "metadata": {},
   "outputs": [
    {
     "name": "stdout",
     "output_type": "stream",
     "text": [
      "The r-squared is: 0.001652296778261904\n"
     ]
    },
    {
     "data": {
      "image/png": "[encoded data removed]",
      "text/plain": [
       "<Figure size 432x288 with 1 Axes>"
      ]
     },
     "metadata": {
      "needs_background": "light"
     },
     "output_type": "display_data"
    }
   ],
   "source": [
    "x_values = southern_hemi_df[\"Latitude\"]\n",
    "y_values = southern_hemi_df[\"Humidity\"]\n",
    "\n",
    "(slope, intercept, rvalue, pvalue, stderr) = linregress(x_values, y_values)\n",
    "regress_values = x_values * slope + intercept\n",
    "line_eq = \"y = \" + str(round(slope,2)) + \"x + \" + str(round(intercept,2))\n",
    "\n",
    "plt.scatter(x_values, y_values)\n",
    "plt.plot(x_values,regress_values,\"r-\")\n",
    "\n",
    "plt.annotate(line_eq,(-55,20),fontsize=15,color=\"red\")\n",
    "plt.xlabel(\"Latitude\")\n",
    "plt.ylabel(\"Humidity (%)\")\n",
    "plt.title(\"Southern Hemisphere - Humidity vs. Latitude \\n Linear Regression (%s)\" % time.strftime(\"%x\"))\n",
    "print(f\"The r-squared is: {rvalue**2}\")\n",
    "\n",
    "plt.savefig (\"../output_data/S_HumidvLat.png\")\n",
    "\n",
    "plt.show()"
   ]
  },
  {
   "cell_type": "markdown",
   "metadata": {},
   "source": [
    "For the Northern and Southern Hemisphere Humidity v. Latitude plots: in the both hemispheres, the very low r-squared values suggest very little correlation between latitude and humidity."
   ]
  },
  {
   "cell_type": "markdown",
   "metadata": {},
   "source": [
    "####  Northern Hemisphere - Cloudiness (%) vs. Latitude Linear Regression"
   ]
  },
  {
   "cell_type": "code",
   "execution_count": 79,
   "metadata": {},
   "outputs": [
    {
     "name": "stdout",
     "output_type": "stream",
     "text": [
      "The r-squared is: 0.0012349202412599999\n"
     ]
    },
    {
     "data": {
      "image/png": "[encoded data removed]",
      "text/plain": [
       "<Figure size 432x288 with 1 Axes>"
      ]
     },
     "metadata": {
      "needs_background": "light"
     },
     "output_type": "display_data"
    }
   ],
   "source": [
    "x_values = northern_hemi_df[\"Latitude\"]\n",
    "y_values = northern_hemi_df[\"Cloudiness\"]\n",
    "\n",
    "\n",
    "(slope, intercept, rvalue, pvalue, stderr) = linregress(x_values, y_values)\n",
    "regress_values = x_values * slope + intercept\n",
    "line_eq = \"y = \" + str(round(slope,2)) + \"x + \" + str(round(intercept,2))\n",
    "\n",
    "plt.scatter(x_values, y_values)\n",
    "plt.plot(x_values,regress_values,\"r-\")\n",
    "\n",
    "plt.annotate(line_eq,(25,55),fontsize=15,color=\"red\")\n",
    "plt.xlabel(\"Latitude\")\n",
    "plt.ylabel(\"Cloudiness (%)\")\n",
    "plt.title(\"Northern Hemisphere - Cloudiness vs. Latitude \\n Linear Regression (%s)\" % time.strftime(\"%x\"))\n",
    "print(f\"The r-squared is: {rvalue**2}\")\n",
    "\n",
    "plt.savefig (\"../output_data/N_CloudvLat.png\")\n",
    "\n",
    "plt.show()"
   ]
  },
  {
   "cell_type": "markdown",
   "metadata": {},
   "source": [
    "####  Southern Hemisphere - Cloudiness (%) vs. Latitude Linear Regression"
   ]
  },
  {
   "cell_type": "code",
   "execution_count": 81,
   "metadata": {},
   "outputs": [
    {
     "name": "stdout",
     "output_type": "stream",
     "text": [
      "The r-squared is: 0.010291369971697073\n"
     ]
    },
    {
     "data": {
      "image/png": "[encoded data removed]",
      "text/plain": [
       "<Figure size 432x288 with 1 Axes>"
      ]
     },
     "metadata": {
      "needs_background": "light"
     },
     "output_type": "display_data"
    }
   ],
   "source": [
    "x_values = southern_hemi_df[\"Latitude\"]\n",
    "y_values = southern_hemi_df[\"Cloudiness\"]\n",
    "\n",
    "(slope, intercept, rvalue, pvalue, stderr) = linregress(x_values, y_values)\n",
    "regress_values = x_values * slope + intercept\n",
    "line_eq = \"y = \" + str(round(slope,2)) + \"x + \" + str(round(intercept,2))\n",
    "\n",
    "plt.scatter(x_values, y_values)\n",
    "plt.plot(x_values,regress_values,\"r-\")\n",
    "\n",
    "plt.annotate(line_eq,(-50,20),fontsize=15,color=\"red\")\n",
    "plt.xlabel(\"Latitude\")\n",
    "plt.ylabel(\"Cloudiness (%)\")\n",
    "plt.title(\"Southern Hemisphere - Cloudiness vs. Latitude \\n Linear Regression (%s)\" % time.strftime(\"%x\"))\n",
    "print(f\"The r-squared is: {rvalue**2}\")\n",
    "\n",
    "plt.savefig (\"../output_data/S_CloudvLat.png\")\n",
    "\n",
    "plt.show()"
   ]
  },
  {
   "cell_type": "markdown",
   "metadata": {},
   "source": [
    "For the Northern and Southern Hemisphere Cloudiness v. Latitude plots, the very low r-squared values suggest no correlation between latitude and cloudiness."
   ]
  },
  {
   "cell_type": "markdown",
   "metadata": {},
   "source": [
    "####  Northern Hemisphere - Wind Speed (mph) vs. Latitude Linear Regression"
   ]
  },
  {
   "cell_type": "code",
   "execution_count": 82,
   "metadata": {},
   "outputs": [
    {
     "name": "stdout",
     "output_type": "stream",
     "text": [
      "The r-squared is: 0.038027552924695625\n"
     ]
    },
    {
     "data": {
      "image/png": "[encoded data removed]",
      "text/plain": [
       "<Figure size 432x288 with 1 Axes>"
      ]
     },
     "metadata": {
      "needs_background": "light"
     },
     "output_type": "display_data"
    }
   ],
   "source": [
    "x_values = northern_hemi_df[\"Latitude\"]\n",
    "y_values = northern_hemi_df[\"Wind Speed\"]\n",
    "\n",
    "(slope, intercept, rvalue, pvalue, stderr) = linregress(x_values, y_values)\n",
    "regress_values = x_values * slope + intercept\n",
    "line_eq = \"y = \" + str(round(slope,2)) + \"x + \" + str(round(intercept,2))\n",
    "\n",
    "plt.scatter(x_values, y_values)\n",
    "plt.plot(x_values,regress_values,\"r-\")\n",
    "\n",
    "plt.annotate(line_eq,(20,25),fontsize=15,color=\"red\")\n",
    "plt.xlabel(\"Latitude\")\n",
    "plt.ylabel(\"Wind Speed (mph)\")\n",
    "plt.title(\"Northern Hemisphere - Wind Speed vs. Latitude \\n Linear Regression (%s)\" % time.strftime(\"%x\"))\n",
    "print(f\"The r-squared is: {rvalue**2}\")\n",
    "\n",
    "plt.savefig (\"../output_data/N_WindvLat.png\")\n",
    "\n",
    "plt.show()"
   ]
  },
  {
   "cell_type": "markdown",
   "metadata": {},
   "source": [
    "####  Southern Hemisphere - Wind Speed (mph) vs. Latitude Linear Regression"
   ]
  },
  {
   "cell_type": "code",
   "execution_count": 83,
   "metadata": {},
   "outputs": [
    {
     "name": "stdout",
     "output_type": "stream",
     "text": [
      "The r-squared is: 0.0006380234276648486\n"
     ]
    },
    {
     "data": {
      "image/png": "[encoded data removed]",
      "text/plain": [
       "<Figure size 432x288 with 1 Axes>"
      ]
     },
     "metadata": {
      "needs_background": "light"
     },
     "output_type": "display_data"
    }
   ],
   "source": [
    "x_values = southern_hemi_df[\"Latitude\"]\n",
    "y_values = southern_hemi_df[\"Wind Speed\"]\n",
    "\n",
    "(slope, intercept, rvalue, pvalue, stderr) = linregress(x_values, y_values)\n",
    "regress_values = x_values * slope + intercept\n",
    "line_eq = \"y = \" + str(round(slope,2)) + \"x + \" + str(round(intercept,2))\n",
    "\n",
    "plt.scatter(x_values, y_values)\n",
    "plt.plot(x_values,regress_values,\"r-\")\n",
    "\n",
    "plt.annotate(line_eq,(-45,20),fontsize=15,color=\"red\")\n",
    "plt.xlabel(\"Latitude\")\n",
    "plt.ylabel(\"Wind Speed (mph)\")\n",
    "plt.title(\"Southern Hemisphere - Wind Speed vs. Latitude \\n Linear Regression (%s)\" % time.strftime(\"%x\"))\n",
    "print(f\"The r-squared is: {rvalue**2}\")\n",
    "\n",
    "plt.savefig (\"../output_data/S_WindvLat.png\")\n",
    "\n",
    "plt.show()"
   ]
  },
  {
   "cell_type": "markdown",
   "metadata": {},
   "source": [
    "For the Northern vs. Southern Hemisphere Wind Speed v. Latitude plots, the very low r-squared values suggest no correlation between latitude and wind speed."
   ]
  }
 ],
 "metadata": {
  "anaconda-cloud": {},
  "kernel_info": {
   "name": "python3"
  },
  "kernelspec": {
   "display_name": "Python 3",
   "language": "python",
   "name": "python3"
  },
  "language_info": {
   "codemirror_mode": {
    "name": "ipython",
    "version": 3
   },
   "file_extension": ".py",
   "mimetype": "text/x-python",
   "name": "python",
   "nbconvert_exporter": "python",
   "pygments_lexer": "ipython3",
   "version": "3.6.10"
  },
  "latex_envs": {
   "LaTeX_envs_menu_present": true,
   "autoclose": false,
   "autocomplete": true,
   "bibliofile": "biblio.bib",
   "cite_by": "apalike",
   "current_citInitial": 1,
   "eqLabelWithNumbers": true,
   "eqNumInitial": 1,
   "hotkeys": {
    "equation": "Ctrl-E",
    "itemize": "Ctrl-I"
   },
   "labels_anchors": false,
   "latex_user_defs": false,
   "report_style_numbering": false,
   "user_envs_cfg": false
  },
  "nteract": {
   "version": "0.12.3"
  }
 },
 "nbformat": 4,
 "nbformat_minor": 2
}
